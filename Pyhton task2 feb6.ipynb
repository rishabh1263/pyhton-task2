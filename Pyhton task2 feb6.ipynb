{
 "cells": [
  {
   "cell_type": "code",
   "execution_count": 1,
   "id": "b53ff9d7",
   "metadata": {},
   "outputs": [],
   "source": [
    "import re\n",
    "def Password_check(password):\n",
    "    if len(password) != 10:\n",
    "        return \"Invalid Password\"\n",
    "    if not re.search('[a-z]', password):\n",
    "          return \"Invalid Password\"\n",
    "    if not re.search('[A-Z]', password):\n",
    "        return \"Invalid Password\"\n",
    "    if not re.search('[!@#$%]', password):\n",
    "        return \"Invalid Password\"\n",
    "    else:\n",
    "        return \"Valid Password\"\n"
   ]
  },
  {
   "cell_type": "code",
   "execution_count": 2,
   "id": "bd5ff0a8",
   "metadata": {},
   "outputs": [
    {
     "name": "stdout",
     "output_type": "stream",
     "text": [
      "Invalid Password\n"
     ]
    }
   ],
   "source": [
    "print(Password_check(\"RishabA@!qw\"))"
   ]
  },
  {
   "cell_type": "code",
   "execution_count": 12,
   "id": "8df2a4f8",
   "metadata": {},
   "outputs": [],
   "source": [
    "##1\n",
    "s = \"India\"\n",
    "s1 = lambda x: True if s.startswith(\"D\") else False"
   ]
  },
  {
   "cell_type": "code",
   "execution_count": 13,
   "id": "b23e9f7a",
   "metadata": {},
   "outputs": [
    {
     "name": "stdout",
     "output_type": "stream",
     "text": [
      "False\n"
     ]
    }
   ],
   "source": [
    "print(s1(\"India\"))"
   ]
  },
  {
   "cell_type": "code",
   "execution_count": 14,
   "id": "2eaa5920",
   "metadata": {},
   "outputs": [],
   "source": [
    "s2 = \"rishabh\"\n",
    "s  = lambda x : True if type(s2)== int else False"
   ]
  },
  {
   "cell_type": "code",
   "execution_count": 17,
   "id": "e382ee48",
   "metadata": {},
   "outputs": [
    {
     "name": "stdout",
     "output_type": "stream",
     "text": [
      "False\n"
     ]
    }
   ],
   "source": [
    "print(s(\"rishabh\"))"
   ]
  },
  {
   "cell_type": "code",
   "execution_count": 19,
   "id": "80a2fcb9",
   "metadata": {},
   "outputs": [
    {
     "name": "stdout",
     "output_type": "stream",
     "text": [
      "[('orange', 80), ('mango', 99), ('grapes', 1000)]\n"
     ]
    }
   ],
   "source": [
    "s2 =[(\"mango\",99),(\"orange\",80), (\"grapes\", 1000)]\n",
    "sorted_data = sorted(s2,key = lambda x: x[1])\n",
    "print(sorted_data)"
   ]
  },
  {
   "cell_type": "code",
   "execution_count": 43,
   "id": "4630bf33",
   "metadata": {},
   "outputs": [],
   "source": [
    "l1 = [1,2,3,4,5,6,7,8,9,10]\n",
    "s = map(lambda x: x**2 , l1)"
   ]
  },
  {
   "cell_type": "code",
   "execution_count": 49,
   "id": "150abb96",
   "metadata": {},
   "outputs": [],
   "source": [
    "s3 = list(s)"
   ]
  },
  {
   "cell_type": "code",
   "execution_count": 50,
   "id": "b7b7d72a",
   "metadata": {},
   "outputs": [
    {
     "name": "stdout",
     "output_type": "stream",
     "text": [
      "[1, 4, 9, 16, 25, 36, 49, 64, 81, 100]\n"
     ]
    }
   ],
   "source": [
    "print(s3)"
   ]
  },
  {
   "cell_type": "code",
   "execution_count": 62,
   "id": "48f71029",
   "metadata": {},
   "outputs": [],
   "source": [
    "l1 = [1,2,3,4,5,6,7,8,9,10]\n",
    "s5 = map(lambda x: x**(1/3), l1)"
   ]
  },
  {
   "cell_type": "code",
   "execution_count": 63,
   "id": "a34c442a",
   "metadata": {},
   "outputs": [],
   "source": [
    "s4 = list(s5)"
   ]
  },
  {
   "cell_type": "code",
   "execution_count": 64,
   "id": "32b2cef5",
   "metadata": {},
   "outputs": [
    {
     "name": "stdout",
     "output_type": "stream",
     "text": [
      "[1.0, 1.2599210498948732, 1.4422495703074083, 1.5874010519681994, 1.7099759466766968, 1.8171205928321397, 1.912931182772389, 2.0, 2.080083823051904, 2.154434690031884]\n"
     ]
    }
   ],
   "source": [
    "print(s4)"
   ]
  },
  {
   "cell_type": "code",
   "execution_count": 70,
   "id": "ba0a4837",
   "metadata": {},
   "outputs": [],
   "source": [
    "s = lambda x : x%2 == 0"
   ]
  },
  {
   "cell_type": "code",
   "execution_count": 72,
   "id": "182d9bd8",
   "metadata": {},
   "outputs": [
    {
     "name": "stdout",
     "output_type": "stream",
     "text": [
      "num is odd\n"
     ]
    }
   ],
   "source": [
    "num = 1\n",
    "if s(num):\n",
    "    print(\"num is even\")\n",
    "else:\n",
    "    print(\"num is odd\")"
   ]
  },
  {
   "cell_type": "code",
   "execution_count": 73,
   "id": "6083ca11",
   "metadata": {},
   "outputs": [],
   "source": [
    "l1 = [1,2,3,4,5,6,7,8,9,10]\n",
    "s = filter(lambda x : x%2 != 0 ,l1)"
   ]
  },
  {
   "cell_type": "code",
   "execution_count": 75,
   "id": "fd8da84a",
   "metadata": {},
   "outputs": [],
   "source": [
    "s5 = list(s)"
   ]
  },
  {
   "cell_type": "code",
   "execution_count": 76,
   "id": "6b5e64ad",
   "metadata": {},
   "outputs": [
    {
     "name": "stdout",
     "output_type": "stream",
     "text": [
      "[1, 3, 5, 7, 9]\n"
     ]
    }
   ],
   "source": [
    "print(s5)"
   ]
  },
  {
   "cell_type": "code",
   "execution_count": 77,
   "id": "da28dfd5",
   "metadata": {},
   "outputs": [],
   "source": [
    "l1 = [1,2,3,4,5,6,-1,-2,-3,-4,-5,0]\n",
    "sort_data = sorted(l1, key = None )"
   ]
  },
  {
   "cell_type": "code",
   "execution_count": 78,
   "id": "9c0420ed",
   "metadata": {},
   "outputs": [
    {
     "name": "stdout",
     "output_type": "stream",
     "text": [
      "[-5, -4, -3, -2, -1, 0, 1, 2, 3, 4, 5, 6]\n"
     ]
    }
   ],
   "source": [
    "print(sort_data)"
   ]
  },
  {
   "cell_type": "code",
   "execution_count": null,
   "id": "30bad708",
   "metadata": {},
   "outputs": [],
   "source": []
  }
 ],
 "metadata": {
  "kernelspec": {
   "display_name": "Python 3 (ipykernel)",
   "language": "python",
   "name": "python3"
  },
  "language_info": {
   "codemirror_mode": {
    "name": "ipython",
    "version": 3
   },
   "file_extension": ".py",
   "mimetype": "text/x-python",
   "name": "python",
   "nbconvert_exporter": "python",
   "pygments_lexer": "ipython3",
   "version": "3.9.13"
  }
 },
 "nbformat": 4,
 "nbformat_minor": 5
}
